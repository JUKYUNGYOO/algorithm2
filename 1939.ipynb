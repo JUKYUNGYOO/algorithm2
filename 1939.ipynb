{
 "cells": [
  {
   "cell_type": "code",
   "execution_count": null,
   "metadata": {
    "collapsed": true
   },
   "outputs": [],
   "source": [
    "from collections import deque\n",
    "n,m = map(int,input().split())\n",
    "adj = [[]for _ in range(n+1)]\n",
    "\n",
    "def bfs(c):\n",
    "    queue = deque([start_node])\n",
    "    visited = [False] * (n+1)\n",
    "    visited[start_node] = True\n",
    "\n",
    "    while queue:\n",
    "        x = queue.popleft()\n",
    "        for y,weight in adj[x]:\n",
    "            if not visited[y] and weight >= c:\n",
    "                visited[y] = True\n",
    "                queue.append(y)\n",
    "    return visited[end_node]\n",
    "\n",
    "start = 1000000000\n",
    "end = 1\n",
    "\n",
    "for _ in range(m):\n",
    "    x,y,weight = map(int,input().split())\n",
    "    adj[x].append((y,weight))\n",
    "    adj[y].append((x,weight))\n",
    "    start = min(start,weight)\n",
    "    end = max(end,weight)\n",
    "\n",
    "start_node,end_node = map(int,input().split())\n",
    "\n",
    "result = start\n",
    "while(start<=end):\n",
    "    mid = (start+end) \n",
    "    if bfs(mid): \n",
    "        result = mid\n",
    "        start = mid+1\n",
    "    else:\n",
    "        end = mid - 1\n",
    "\n",
    "print(result)\n",
    "\n",
    "\n",
    "\n",
    "\n",
    "\n",
    "\n",
    "\n",
    "\n",
    "\n",
    "\n",
    "\n",
    "\n"
   ]
  }
 ],
 "metadata": {
  "kernelspec": {
   "display_name": "Python 2",
   "language": "python",
   "name": "python2"
  },
  "language_info": {
   "codemirror_mode": {
    "name": "ipython",
    "version": 2
   },
   "file_extension": ".py",
   "mimetype": "text/x-python",
   "name": "python",
   "nbconvert_exporter": "python",
   "pygments_lexer": "ipython2",
   "version": "2.7.6"
  }
 },
 "nbformat": 4,
 "nbformat_minor": 0
}
